{
  "nbformat": 4,
  "nbformat_minor": 0,
  "metadata": {
    "colab": {
      "provenance": [],
      "mount_file_id": "1KSNVlQK1sIpMD5NJz_gLzwuE1-TM4qFt",
      "authorship_tag": "ABX9TyMsuNHnGgmAE5x4S1yRCKug",
      "include_colab_link": true
    },
    "kernelspec": {
      "name": "python3",
      "display_name": "Python 3"
    },
    "language_info": {
      "name": "python"
    }
  },
  "cells": [
    {
      "cell_type": "markdown",
      "metadata": {
        "id": "view-in-github",
        "colab_type": "text"
      },
      "source": [
        "<a href=\"https://colab.research.google.com/github/NileshCT/Machine_Learning_Models/blob/main/Node_creat_for_kedro_pipeline_On_WeatherAUS_Data.ipynb\" target=\"_parent\"><img src=\"https://colab.research.google.com/assets/colab-badge.svg\" alt=\"Open In Colab\"/></a>"
      ]
    },
    {
      "cell_type": "code",
      "execution_count": 1,
      "metadata": {
        "id": "LTD_FxD2YfI5"
      },
      "outputs": [],
      "source": [
        "#Importing required libraries\n",
        "import pandas as pd\n",
        "import numpy as np\n",
        "import seaborn as sns\n",
        "import matplotlib.pyplot as plt\n",
        "from sklearn.model_selection import train_test_split\n",
        "import plotly.express as px"
      ]
    },
    {
      "cell_type": "code",
      "source": [
        "def get_data():\n",
        "  \"\"\"importing dataset\n",
        "  output=importing dataset and converting into dataframe.\"\"\"\n",
        "  df=pd.read_csv(\"/content/drive/MyDrive/weatherAUS.csv.zip\")\n",
        "  return df"
      ],
      "metadata": {
        "id": "A2ldCuPCYrm-"
      },
      "execution_count": 2,
      "outputs": []
    },
    {
      "cell_type": "code",
      "source": [
        "df=get_data()"
      ],
      "metadata": {
        "id": "tM4j7vuEkzFK"
      },
      "execution_count": 3,
      "outputs": []
    },
    {
      "cell_type": "code",
      "source": [
        "def data_treatment(df):\n",
        "  df.drop([\"Date\"],axis=1,inplace=True)\n",
        "  return df\n",
        "data=data_treatment(df)"
      ],
      "metadata": {
        "id": "aaubujzRfhGU"
      },
      "execution_count": 5,
      "outputs": []
    },
    {
      "cell_type": "code",
      "source": [
        "def target_nan(df):\n",
        "  a=[(i,index) for i,index in enumerate(df[\"RainTomorrow\"]) if pd.isna(index)]\n",
        "  t= pd.DataFrame(a).set_index(0)\n",
        "  return t"
      ],
      "metadata": {
        "id": "xpGCbgdsuryR"
      },
      "execution_count": 78,
      "outputs": []
    },
    {
      "cell_type": "code",
      "source": [
        "t=target_nan(df)\n",
        "t"
      ],
      "metadata": {
        "colab": {
          "base_uri": "https://localhost:8080/",
          "height": 455
        },
        "id": "AggBUC7qvvdQ",
        "outputId": "27d3e53c-34da-497a-b2f8-ceb8ceb725c1"
      },
      "execution_count": 87,
      "outputs": [
        {
          "output_type": "execute_result",
          "data": {
            "text/plain": [
              "         1\n",
              "0         \n",
              "14     NaN\n",
              "283    NaN\n",
              "435    NaN\n",
              "437    NaN\n",
              "443    NaN\n",
              "...     ..\n",
              "144955 NaN\n",
              "145091 NaN\n",
              "145092 NaN\n",
              "145335 NaN\n",
              "145459 NaN\n",
              "\n",
              "[3267 rows x 1 columns]"
            ],
            "text/html": [
              "\n",
              "  <div id=\"df-f205fb94-858e-4d3d-b903-6d698e9247d3\">\n",
              "    <div class=\"colab-df-container\">\n",
              "      <div>\n",
              "<style scoped>\n",
              "    .dataframe tbody tr th:only-of-type {\n",
              "        vertical-align: middle;\n",
              "    }\n",
              "\n",
              "    .dataframe tbody tr th {\n",
              "        vertical-align: top;\n",
              "    }\n",
              "\n",
              "    .dataframe thead th {\n",
              "        text-align: right;\n",
              "    }\n",
              "</style>\n",
              "<table border=\"1\" class=\"dataframe\">\n",
              "  <thead>\n",
              "    <tr style=\"text-align: right;\">\n",
              "      <th></th>\n",
              "      <th>1</th>\n",
              "    </tr>\n",
              "    <tr>\n",
              "      <th>0</th>\n",
              "      <th></th>\n",
              "    </tr>\n",
              "  </thead>\n",
              "  <tbody>\n",
              "    <tr>\n",
              "      <th>14</th>\n",
              "      <td>NaN</td>\n",
              "    </tr>\n",
              "    <tr>\n",
              "      <th>283</th>\n",
              "      <td>NaN</td>\n",
              "    </tr>\n",
              "    <tr>\n",
              "      <th>435</th>\n",
              "      <td>NaN</td>\n",
              "    </tr>\n",
              "    <tr>\n",
              "      <th>437</th>\n",
              "      <td>NaN</td>\n",
              "    </tr>\n",
              "    <tr>\n",
              "      <th>443</th>\n",
              "      <td>NaN</td>\n",
              "    </tr>\n",
              "    <tr>\n",
              "      <th>...</th>\n",
              "      <td>...</td>\n",
              "    </tr>\n",
              "    <tr>\n",
              "      <th>144955</th>\n",
              "      <td>NaN</td>\n",
              "    </tr>\n",
              "    <tr>\n",
              "      <th>145091</th>\n",
              "      <td>NaN</td>\n",
              "    </tr>\n",
              "    <tr>\n",
              "      <th>145092</th>\n",
              "      <td>NaN</td>\n",
              "    </tr>\n",
              "    <tr>\n",
              "      <th>145335</th>\n",
              "      <td>NaN</td>\n",
              "    </tr>\n",
              "    <tr>\n",
              "      <th>145459</th>\n",
              "      <td>NaN</td>\n",
              "    </tr>\n",
              "  </tbody>\n",
              "</table>\n",
              "<p>3267 rows × 1 columns</p>\n",
              "</div>\n",
              "      <button class=\"colab-df-convert\" onclick=\"convertToInteractive('df-f205fb94-858e-4d3d-b903-6d698e9247d3')\"\n",
              "              title=\"Convert this dataframe to an interactive table.\"\n",
              "              style=\"display:none;\">\n",
              "        \n",
              "  <svg xmlns=\"http://www.w3.org/2000/svg\" height=\"24px\"viewBox=\"0 0 24 24\"\n",
              "       width=\"24px\">\n",
              "    <path d=\"M0 0h24v24H0V0z\" fill=\"none\"/>\n",
              "    <path d=\"M18.56 5.44l.94 2.06.94-2.06 2.06-.94-2.06-.94-.94-2.06-.94 2.06-2.06.94zm-11 1L8.5 8.5l.94-2.06 2.06-.94-2.06-.94L8.5 2.5l-.94 2.06-2.06.94zm10 10l.94 2.06.94-2.06 2.06-.94-2.06-.94-.94-2.06-.94 2.06-2.06.94z\"/><path d=\"M17.41 7.96l-1.37-1.37c-.4-.4-.92-.59-1.43-.59-.52 0-1.04.2-1.43.59L10.3 9.45l-7.72 7.72c-.78.78-.78 2.05 0 2.83L4 21.41c.39.39.9.59 1.41.59.51 0 1.02-.2 1.41-.59l7.78-7.78 2.81-2.81c.8-.78.8-2.07 0-2.86zM5.41 20L4 18.59l7.72-7.72 1.47 1.35L5.41 20z\"/>\n",
              "  </svg>\n",
              "      </button>\n",
              "      \n",
              "  <style>\n",
              "    .colab-df-container {\n",
              "      display:flex;\n",
              "      flex-wrap:wrap;\n",
              "      gap: 12px;\n",
              "    }\n",
              "\n",
              "    .colab-df-convert {\n",
              "      background-color: #E8F0FE;\n",
              "      border: none;\n",
              "      border-radius: 50%;\n",
              "      cursor: pointer;\n",
              "      display: none;\n",
              "      fill: #1967D2;\n",
              "      height: 32px;\n",
              "      padding: 0 0 0 0;\n",
              "      width: 32px;\n",
              "    }\n",
              "\n",
              "    .colab-df-convert:hover {\n",
              "      background-color: #E2EBFA;\n",
              "      box-shadow: 0px 1px 2px rgba(60, 64, 67, 0.3), 0px 1px 3px 1px rgba(60, 64, 67, 0.15);\n",
              "      fill: #174EA6;\n",
              "    }\n",
              "\n",
              "    [theme=dark] .colab-df-convert {\n",
              "      background-color: #3B4455;\n",
              "      fill: #D2E3FC;\n",
              "    }\n",
              "\n",
              "    [theme=dark] .colab-df-convert:hover {\n",
              "      background-color: #434B5C;\n",
              "      box-shadow: 0px 1px 3px 1px rgba(0, 0, 0, 0.15);\n",
              "      filter: drop-shadow(0px 1px 2px rgba(0, 0, 0, 0.3));\n",
              "      fill: #FFFFFF;\n",
              "    }\n",
              "  </style>\n",
              "\n",
              "      <script>\n",
              "        const buttonEl =\n",
              "          document.querySelector('#df-f205fb94-858e-4d3d-b903-6d698e9247d3 button.colab-df-convert');\n",
              "        buttonEl.style.display =\n",
              "          google.colab.kernel.accessAllowed ? 'block' : 'none';\n",
              "\n",
              "        async function convertToInteractive(key) {\n",
              "          const element = document.querySelector('#df-f205fb94-858e-4d3d-b903-6d698e9247d3');\n",
              "          const dataTable =\n",
              "            await google.colab.kernel.invokeFunction('convertToInteractive',\n",
              "                                                     [key], {});\n",
              "          if (!dataTable) return;\n",
              "\n",
              "          const docLinkHtml = 'Like what you see? Visit the ' +\n",
              "            '<a target=\"_blank\" href=https://colab.research.google.com/notebooks/data_table.ipynb>data table notebook</a>'\n",
              "            + ' to learn more about interactive tables.';\n",
              "          element.innerHTML = '';\n",
              "          dataTable['output_type'] = 'display_data';\n",
              "          await google.colab.output.renderOutput(dataTable, element);\n",
              "          const docLink = document.createElement('div');\n",
              "          docLink.innerHTML = docLinkHtml;\n",
              "          element.appendChild(docLink);\n",
              "        }\n",
              "      </script>\n",
              "    </div>\n",
              "  </div>\n",
              "  "
            ]
          },
          "metadata": {},
          "execution_count": 87
        }
      ]
    },
    {
      "cell_type": "code",
      "source": [
        "#Inference data extraction.\n",
        "def inference(t):\n",
        "  index_nan=t.index.tolist()\n",
        "  df_inference=df.iloc[index_nan]\n",
        "  return df_inference\n",
        "df_inference=inference(result)"
      ],
      "metadata": {
        "id": "EIuImBT3v8EP"
      },
      "execution_count": 88,
      "outputs": []
    },
    {
      "cell_type": "code",
      "source": [
        "#get training data for modelling.\n",
        "def training_data(df_inference):\n",
        "  index_nan=t.index.tolist()\n",
        "  b=[]\n",
        "  for i in range(df.shape[0]):\n",
        "    if i not in index_nan:\n",
        "      b.append(i)\n",
        "  return b\n"
      ],
      "metadata": {
        "id": "BobewtWn027d"
      },
      "execution_count": 89,
      "outputs": []
    },
    {
      "cell_type": "code",
      "source": [
        "c=training_data(df_inference)"
      ],
      "metadata": {
        "id": "nCmK9jFf8n-5"
      },
      "execution_count": 91,
      "outputs": []
    },
    {
      "cell_type": "code",
      "source": [
        "def get_training_data(b):\n",
        "  df_training_data=df.iloc[b]\n",
        "  return df_training_data"
      ],
      "metadata": {
        "id": "PJ65B3Kt8wi4"
      },
      "execution_count": 92,
      "outputs": []
    },
    {
      "cell_type": "code",
      "source": [
        "df_training_data=get_training_data(b)\n",
        "df_training_data"
      ],
      "metadata": {
        "id": "h5yms_JA2qG1"
      },
      "execution_count": null,
      "outputs": []
    },
    {
      "cell_type": "code",
      "source": [
        "def treat_missing(df_training_data):\n",
        "  df_treat_training_data=df_training_data.fillna(method=\"ffill\",axis=0).fillna(method=\"bfill\",axis=0)\n",
        "  return df_treat_training_data\n",
        "df_treat_training_data=treat_missing(df_training_data)"
      ],
      "metadata": {
        "id": "gHfbTTWI5UKy"
      },
      "execution_count": 98,
      "outputs": []
    },
    {
      "cell_type": "code",
      "source": [
        "def training_data_split(df_treat_training_data):\n",
        "  X_training=df_treat_training_data.drop([\"RainTomorrow\"],axis=1)\n",
        "  y_training=df_treat_training_data[\"RainTomorrow\"]\n",
        "  return X_training, y_training\n",
        "X_training, y_training=training_data_split(df_treat_training_data)"
      ],
      "metadata": {
        "id": "PohDJrbVExbd"
      },
      "execution_count": 103,
      "outputs": []
    },
    {
      "cell_type": "code",
      "source": [
        "from sklearn import preprocessing\n",
        "L_Encoder=preprocessing.LabelEncoder()\n",
        "def lebal_encoder(X_training):\n",
        "  X_training[\"Location\"]=L_Encoder.fit_transform(X_training[\"Location\"])\n",
        "  X_training[\"WindGustDir\"]=L_Encoder.fit_transform(X_training[\"WindGustDir\"])\n",
        "  X_training[\"WindDir9am\"]=L_Encoder.fit_transform(X_training[\"WindDir9am\"])\n",
        "  X_training[\"WindDir3pm\"]=L_Encoder.fit_transform(X_training[\"WindDir3pm\"])\n",
        "  X_training[\"RainToday\"]=L_Encoder.fit_transform(X_training[\"RainToday\"])\n",
        "  return X_training\n",
        "X_training=lebal_encoder(X_training)\n"
      ],
      "metadata": {
        "id": "RKCdDSuTC5CH"
      },
      "execution_count": null,
      "outputs": []
    },
    {
      "cell_type": "code",
      "source": [
        "X_training"
      ],
      "metadata": {
        "id": "rlH_wEP9GrnN"
      },
      "execution_count": null,
      "outputs": []
    },
    {
      "cell_type": "code",
      "source": [],
      "metadata": {
        "id": "sPgZ3BRTHShV"
      },
      "execution_count": null,
      "outputs": []
    }
  ]
}